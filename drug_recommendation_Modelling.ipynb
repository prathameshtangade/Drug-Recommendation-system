{
 "cells": [
  {
   "cell_type": "code",
   "execution_count": null,
   "id": "WNIX1-LIqMA0",
   "metadata": {
    "colab": {
     "base_uri": "https://localhost:8080/"
    },
    "id": "WNIX1-LIqMA0",
    "outputId": "8e4a01b6-4d73-4961-becb-ac397d607391"
   },
   "outputs": [
    {
     "name": "stdout",
     "output_type": "stream",
     "text": [
      "Mounted at /content/drive\n"
     ]
    }
   ],
   "source": [
    "from google.colab import drive\n",
    "drive.mount('/content/drive')"
   ]
  },
  {
   "cell_type": "code",
   "execution_count": null,
   "id": "14dbbae1",
   "metadata": {
    "id": "14dbbae1"
   },
   "outputs": [],
   "source": [
    "import pandas as pd\n",
    "import numpy as np\n",
    "import matplotlib.pyplot as plt\n",
    "import seaborn as sns\n",
    "import warnings\n",
    "warnings.filterwarnings('ignore')\n",
    "from wordcloud import WordCloud\n",
    "from wordcloud import STOPWORDS"
   ]
  },
  {
   "cell_type": "code",
   "execution_count": null,
   "id": "2091ab9e",
   "metadata": {
    "id": "2091ab9e"
   },
   "outputs": [],
   "source": [
    "import nltk\n",
    "import regex as re\n",
    "#nltk.download('stopwords')\n",
    "from nltk.corpus import stopwords\n",
    "from nltk.stem.snowball import SnowballStemmer"
   ]
  },
  {
   "cell_type": "code",
   "execution_count": null,
   "id": "efefde05",
   "metadata": {
    "colab": {
     "base_uri": "https://localhost:8080/",
     "height": 393
    },
    "id": "efefde05",
    "outputId": "0fb1773e-0c25-4c60-993e-f824acee2e8e"
   },
   "outputs": [
    {
     "name": "stdout",
     "output_type": "stream",
     "text": [
      "(106090, 58)\n"
     ]
    },
    {
     "data": {
      "text/html": [
       "\n",
       "  <div id=\"df-d9dbcc89-fc25-4ba0-b805-ae0b21de6264\">\n",
       "    <div class=\"colab-df-container\">\n",
       "      <div>\n",
       "<style scoped>\n",
       "    .dataframe tbody tr th:only-of-type {\n",
       "        vertical-align: middle;\n",
       "    }\n",
       "\n",
       "    .dataframe tbody tr th {\n",
       "        vertical-align: top;\n",
       "    }\n",
       "\n",
       "    .dataframe thead th {\n",
       "        text-align: right;\n",
       "    }\n",
       "</style>\n",
       "<table border=\"1\" class=\"dataframe\">\n",
       "  <thead>\n",
       "    <tr style=\"text-align: right;\">\n",
       "      <th></th>\n",
       "      <th>uniqueID</th>\n",
       "      <th>drugName</th>\n",
       "      <th>condition</th>\n",
       "      <th>review</th>\n",
       "      <th>rating</th>\n",
       "      <th>date</th>\n",
       "      <th>usefulCount</th>\n",
       "      <th>review_sentiment</th>\n",
       "      <th>cleaned_review</th>\n",
       "      <th>sentiment_score</th>\n",
       "      <th>...</th>\n",
       "      <th>10</th>\n",
       "      <th>11</th>\n",
       "      <th>12</th>\n",
       "      <th>13</th>\n",
       "      <th>14</th>\n",
       "      <th>15</th>\n",
       "      <th>16</th>\n",
       "      <th>17</th>\n",
       "      <th>18</th>\n",
       "      <th>19</th>\n",
       "    </tr>\n",
       "  </thead>\n",
       "  <tbody>\n",
       "    <tr>\n",
       "      <th>0</th>\n",
       "      <td>163740</td>\n",
       "      <td>mirtazapine</td>\n",
       "      <td>depression</td>\n",
       "      <td>\"I&amp;#039;ve tried a few antidepressants over th...</td>\n",
       "      <td>10</td>\n",
       "      <td>2012-02-28</td>\n",
       "      <td>22</td>\n",
       "      <td>1</td>\n",
       "      <td>tri antidepress year citalopram fluoxetin amit...</td>\n",
       "      <td>-0.4596</td>\n",
       "      <td>...</td>\n",
       "      <td>0.065639</td>\n",
       "      <td>0.009914</td>\n",
       "      <td>0.004923</td>\n",
       "      <td>0.137026</td>\n",
       "      <td>0.008752</td>\n",
       "      <td>0.022762</td>\n",
       "      <td>0.009100</td>\n",
       "      <td>0.013640</td>\n",
       "      <td>0.089726</td>\n",
       "      <td>0.008125</td>\n",
       "    </tr>\n",
       "    <tr>\n",
       "      <th>1</th>\n",
       "      <td>206473</td>\n",
       "      <td>mesalamine</td>\n",
       "      <td>crohn's disease, maintenance</td>\n",
       "      <td>\"My son has Crohn&amp;#039;s disease and has done ...</td>\n",
       "      <td>8</td>\n",
       "      <td>2009-05-17</td>\n",
       "      <td>17</td>\n",
       "      <td>1</td>\n",
       "      <td>son crohn diseas done well asacol no complaint...</td>\n",
       "      <td>0.0736</td>\n",
       "      <td>...</td>\n",
       "      <td>0.077374</td>\n",
       "      <td>0.071292</td>\n",
       "      <td>0.005803</td>\n",
       "      <td>0.183236</td>\n",
       "      <td>0.010316</td>\n",
       "      <td>0.011928</td>\n",
       "      <td>0.010726</td>\n",
       "      <td>0.016077</td>\n",
       "      <td>0.031240</td>\n",
       "      <td>0.069166</td>\n",
       "    </tr>\n",
       "    <tr>\n",
       "      <th>2</th>\n",
       "      <td>159672</td>\n",
       "      <td>bactrim</td>\n",
       "      <td>urinary tract infection</td>\n",
       "      <td>\"Quick reduction of symptoms\"</td>\n",
       "      <td>9</td>\n",
       "      <td>2017-09-29</td>\n",
       "      <td>3</td>\n",
       "      <td>1</td>\n",
       "      <td>quick reduct symptom</td>\n",
       "      <td>0.0000</td>\n",
       "      <td>...</td>\n",
       "      <td>0.049701</td>\n",
       "      <td>0.017779</td>\n",
       "      <td>0.008829</td>\n",
       "      <td>0.220508</td>\n",
       "      <td>0.015694</td>\n",
       "      <td>0.018148</td>\n",
       "      <td>0.016318</td>\n",
       "      <td>0.024460</td>\n",
       "      <td>0.024889</td>\n",
       "      <td>0.014570</td>\n",
       "    </tr>\n",
       "  </tbody>\n",
       "</table>\n",
       "<p>3 rows × 58 columns</p>\n",
       "</div>\n",
       "      <button class=\"colab-df-convert\" onclick=\"convertToInteractive('df-d9dbcc89-fc25-4ba0-b805-ae0b21de6264')\"\n",
       "              title=\"Convert this dataframe to an interactive table.\"\n",
       "              style=\"display:none;\">\n",
       "        \n",
       "  <svg xmlns=\"http://www.w3.org/2000/svg\" height=\"24px\"viewBox=\"0 0 24 24\"\n",
       "       width=\"24px\">\n",
       "    <path d=\"M0 0h24v24H0V0z\" fill=\"none\"/>\n",
       "    <path d=\"M18.56 5.44l.94 2.06.94-2.06 2.06-.94-2.06-.94-.94-2.06-.94 2.06-2.06.94zm-11 1L8.5 8.5l.94-2.06 2.06-.94-2.06-.94L8.5 2.5l-.94 2.06-2.06.94zm10 10l.94 2.06.94-2.06 2.06-.94-2.06-.94-.94-2.06-.94 2.06-2.06.94z\"/><path d=\"M17.41 7.96l-1.37-1.37c-.4-.4-.92-.59-1.43-.59-.52 0-1.04.2-1.43.59L10.3 9.45l-7.72 7.72c-.78.78-.78 2.05 0 2.83L4 21.41c.39.39.9.59 1.41.59.51 0 1.02-.2 1.41-.59l7.78-7.78 2.81-2.81c.8-.78.8-2.07 0-2.86zM5.41 20L4 18.59l7.72-7.72 1.47 1.35L5.41 20z\"/>\n",
       "  </svg>\n",
       "      </button>\n",
       "      \n",
       "  <style>\n",
       "    .colab-df-container {\n",
       "      display:flex;\n",
       "      flex-wrap:wrap;\n",
       "      gap: 12px;\n",
       "    }\n",
       "\n",
       "    .colab-df-convert {\n",
       "      background-color: #E8F0FE;\n",
       "      border: none;\n",
       "      border-radius: 50%;\n",
       "      cursor: pointer;\n",
       "      display: none;\n",
       "      fill: #1967D2;\n",
       "      height: 32px;\n",
       "      padding: 0 0 0 0;\n",
       "      width: 32px;\n",
       "    }\n",
       "\n",
       "    .colab-df-convert:hover {\n",
       "      background-color: #E2EBFA;\n",
       "      box-shadow: 0px 1px 2px rgba(60, 64, 67, 0.3), 0px 1px 3px 1px rgba(60, 64, 67, 0.15);\n",
       "      fill: #174EA6;\n",
       "    }\n",
       "\n",
       "    [theme=dark] .colab-df-convert {\n",
       "      background-color: #3B4455;\n",
       "      fill: #D2E3FC;\n",
       "    }\n",
       "\n",
       "    [theme=dark] .colab-df-convert:hover {\n",
       "      background-color: #434B5C;\n",
       "      box-shadow: 0px 1px 3px 1px rgba(0, 0, 0, 0.15);\n",
       "      filter: drop-shadow(0px 1px 2px rgba(0, 0, 0, 0.3));\n",
       "      fill: #FFFFFF;\n",
       "    }\n",
       "  </style>\n",
       "\n",
       "      <script>\n",
       "        const buttonEl =\n",
       "          document.querySelector('#df-d9dbcc89-fc25-4ba0-b805-ae0b21de6264 button.colab-df-convert');\n",
       "        buttonEl.style.display =\n",
       "          google.colab.kernel.accessAllowed ? 'block' : 'none';\n",
       "\n",
       "        async function convertToInteractive(key) {\n",
       "          const element = document.querySelector('#df-d9dbcc89-fc25-4ba0-b805-ae0b21de6264');\n",
       "          const dataTable =\n",
       "            await google.colab.kernel.invokeFunction('convertToInteractive',\n",
       "                                                     [key], {});\n",
       "          if (!dataTable) return;\n",
       "\n",
       "          const docLinkHtml = 'Like what you see? Visit the ' +\n",
       "            '<a target=\"_blank\" href=https://colab.research.google.com/notebooks/data_table.ipynb>data table notebook</a>'\n",
       "            + ' to learn more about interactive tables.';\n",
       "          element.innerHTML = '';\n",
       "          dataTable['output_type'] = 'display_data';\n",
       "          await google.colab.output.renderOutput(dataTable, element);\n",
       "          const docLink = document.createElement('div');\n",
       "          docLink.innerHTML = docLinkHtml;\n",
       "          element.appendChild(docLink);\n",
       "        }\n",
       "      </script>\n",
       "    </div>\n",
       "  </div>\n",
       "  "
      ],
      "text/plain": [
       "   uniqueID     drugName                     condition  \\\n",
       "0    163740  mirtazapine                    depression   \n",
       "1    206473   mesalamine  crohn's disease, maintenance   \n",
       "2    159672      bactrim       urinary tract infection   \n",
       "\n",
       "                                              review  rating        date  \\\n",
       "0  \"I&#039;ve tried a few antidepressants over th...      10  2012-02-28   \n",
       "1  \"My son has Crohn&#039;s disease and has done ...       8  2009-05-17   \n",
       "2                      \"Quick reduction of symptoms\"       9  2017-09-29   \n",
       "\n",
       "   usefulCount  review_sentiment  \\\n",
       "0           22                 1   \n",
       "1           17                 1   \n",
       "2            3                 1   \n",
       "\n",
       "                                      cleaned_review  sentiment_score  ...  \\\n",
       "0  tri antidepress year citalopram fluoxetin amit...          -0.4596  ...   \n",
       "1  son crohn diseas done well asacol no complaint...           0.0736  ...   \n",
       "2                              quick reduct symptom            0.0000  ...   \n",
       "\n",
       "         10        11        12        13        14        15        16  \\\n",
       "0  0.065639  0.009914  0.004923  0.137026  0.008752  0.022762  0.009100   \n",
       "1  0.077374  0.071292  0.005803  0.183236  0.010316  0.011928  0.010726   \n",
       "2  0.049701  0.017779  0.008829  0.220508  0.015694  0.018148  0.016318   \n",
       "\n",
       "         17        18        19  \n",
       "0  0.013640  0.089726  0.008125  \n",
       "1  0.016077  0.031240  0.069166  \n",
       "2  0.024460  0.024889  0.014570  \n",
       "\n",
       "[3 rows x 58 columns]"
      ]
     },
     "execution_count": 4,
     "metadata": {},
     "output_type": "execute_result"
    }
   ],
   "source": [
    "data = pd.read_csv(\"/content/drive/MyDrive/Python Practice/Prathamesh/DRUG RECOMMENDATION SYSTEM/data.csv\")\n",
    "print(data.shape)\n",
    "data.head(3)"
   ]
  },
  {
   "cell_type": "markdown",
   "id": "bad97e0a",
   "metadata": {
    "id": "bad97e0a"
   },
   "source": [
    "### Splitting the data to Train and Test"
   ]
  },
  {
   "cell_type": "code",
   "execution_count": null,
   "id": "5a1fbe25",
   "metadata": {
    "colab": {
     "base_uri": "https://localhost:8080/",
     "height": 341
    },
    "id": "5a1fbe25",
    "outputId": "798c4db4-451d-4635-90ec-6ff350ee2d53"
   },
   "outputs": [
    {
     "name": "stdout",
     "output_type": "stream",
     "text": [
      "(106090, 53)\n"
     ]
    },
    {
     "data": {
      "text/html": [
       "\n",
       "  <div id=\"df-4c0c4940-69af-4d85-92ee-8c58ecb9bb82\">\n",
       "    <div class=\"colab-df-container\">\n",
       "      <div>\n",
       "<style scoped>\n",
       "    .dataframe tbody tr th:only-of-type {\n",
       "        vertical-align: middle;\n",
       "    }\n",
       "\n",
       "    .dataframe tbody tr th {\n",
       "        vertical-align: top;\n",
       "    }\n",
       "\n",
       "    .dataframe thead th {\n",
       "        text-align: right;\n",
       "    }\n",
       "</style>\n",
       "<table border=\"1\" class=\"dataframe\">\n",
       "  <thead>\n",
       "    <tr style=\"text-align: right;\">\n",
       "      <th></th>\n",
       "      <th>drugName</th>\n",
       "      <th>condition</th>\n",
       "      <th>usefulCount</th>\n",
       "      <th>cleaned_review</th>\n",
       "      <th>sentiment_score</th>\n",
       "      <th>sentiment_score_clean</th>\n",
       "      <th>year</th>\n",
       "      <th>word_count</th>\n",
       "      <th>unique_word_count</th>\n",
       "      <th>char_length</th>\n",
       "      <th>...</th>\n",
       "      <th>10</th>\n",
       "      <th>11</th>\n",
       "      <th>12</th>\n",
       "      <th>13</th>\n",
       "      <th>14</th>\n",
       "      <th>15</th>\n",
       "      <th>16</th>\n",
       "      <th>17</th>\n",
       "      <th>18</th>\n",
       "      <th>19</th>\n",
       "    </tr>\n",
       "  </thead>\n",
       "  <tbody>\n",
       "    <tr>\n",
       "      <th>0</th>\n",
       "      <td>mirtazapine</td>\n",
       "      <td>depression</td>\n",
       "      <td>22</td>\n",
       "      <td>tri antidepress year citalopram fluoxetin amit...</td>\n",
       "      <td>-0.4596</td>\n",
       "      <td>0.8470</td>\n",
       "      <td>2012</td>\n",
       "      <td>38</td>\n",
       "      <td>35</td>\n",
       "      <td>260</td>\n",
       "      <td>...</td>\n",
       "      <td>0.065639</td>\n",
       "      <td>0.009914</td>\n",
       "      <td>0.004923</td>\n",
       "      <td>0.137026</td>\n",
       "      <td>0.008752</td>\n",
       "      <td>0.022762</td>\n",
       "      <td>0.009100</td>\n",
       "      <td>0.013640</td>\n",
       "      <td>0.089726</td>\n",
       "      <td>0.008125</td>\n",
       "    </tr>\n",
       "    <tr>\n",
       "      <th>1</th>\n",
       "      <td>mesalamine</td>\n",
       "      <td>crohn's disease, maintenance</td>\n",
       "      <td>17</td>\n",
       "      <td>son crohn diseas done well asacol no complaint...</td>\n",
       "      <td>0.0736</td>\n",
       "      <td>-0.5423</td>\n",
       "      <td>2009</td>\n",
       "      <td>26</td>\n",
       "      <td>25</td>\n",
       "      <td>148</td>\n",
       "      <td>...</td>\n",
       "      <td>0.077374</td>\n",
       "      <td>0.071292</td>\n",
       "      <td>0.005803</td>\n",
       "      <td>0.183236</td>\n",
       "      <td>0.010316</td>\n",
       "      <td>0.011928</td>\n",
       "      <td>0.010726</td>\n",
       "      <td>0.016077</td>\n",
       "      <td>0.031240</td>\n",
       "      <td>0.069166</td>\n",
       "    </tr>\n",
       "    <tr>\n",
       "      <th>2</th>\n",
       "      <td>bactrim</td>\n",
       "      <td>urinary tract infection</td>\n",
       "      <td>3</td>\n",
       "      <td>quick reduct symptom</td>\n",
       "      <td>0.0000</td>\n",
       "      <td>0.0000</td>\n",
       "      <td>2017</td>\n",
       "      <td>3</td>\n",
       "      <td>3</td>\n",
       "      <td>21</td>\n",
       "      <td>...</td>\n",
       "      <td>0.049701</td>\n",
       "      <td>0.017779</td>\n",
       "      <td>0.008829</td>\n",
       "      <td>0.220508</td>\n",
       "      <td>0.015694</td>\n",
       "      <td>0.018148</td>\n",
       "      <td>0.016318</td>\n",
       "      <td>0.024460</td>\n",
       "      <td>0.024889</td>\n",
       "      <td>0.014570</td>\n",
       "    </tr>\n",
       "  </tbody>\n",
       "</table>\n",
       "<p>3 rows × 53 columns</p>\n",
       "</div>\n",
       "      <button class=\"colab-df-convert\" onclick=\"convertToInteractive('df-4c0c4940-69af-4d85-92ee-8c58ecb9bb82')\"\n",
       "              title=\"Convert this dataframe to an interactive table.\"\n",
       "              style=\"display:none;\">\n",
       "        \n",
       "  <svg xmlns=\"http://www.w3.org/2000/svg\" height=\"24px\"viewBox=\"0 0 24 24\"\n",
       "       width=\"24px\">\n",
       "    <path d=\"M0 0h24v24H0V0z\" fill=\"none\"/>\n",
       "    <path d=\"M18.56 5.44l.94 2.06.94-2.06 2.06-.94-2.06-.94-.94-2.06-.94 2.06-2.06.94zm-11 1L8.5 8.5l.94-2.06 2.06-.94-2.06-.94L8.5 2.5l-.94 2.06-2.06.94zm10 10l.94 2.06.94-2.06 2.06-.94-2.06-.94-.94-2.06-.94 2.06-2.06.94z\"/><path d=\"M17.41 7.96l-1.37-1.37c-.4-.4-.92-.59-1.43-.59-.52 0-1.04.2-1.43.59L10.3 9.45l-7.72 7.72c-.78.78-.78 2.05 0 2.83L4 21.41c.39.39.9.59 1.41.59.51 0 1.02-.2 1.41-.59l7.78-7.78 2.81-2.81c.8-.78.8-2.07 0-2.86zM5.41 20L4 18.59l7.72-7.72 1.47 1.35L5.41 20z\"/>\n",
       "  </svg>\n",
       "      </button>\n",
       "      \n",
       "  <style>\n",
       "    .colab-df-container {\n",
       "      display:flex;\n",
       "      flex-wrap:wrap;\n",
       "      gap: 12px;\n",
       "    }\n",
       "\n",
       "    .colab-df-convert {\n",
       "      background-color: #E8F0FE;\n",
       "      border: none;\n",
       "      border-radius: 50%;\n",
       "      cursor: pointer;\n",
       "      display: none;\n",
       "      fill: #1967D2;\n",
       "      height: 32px;\n",
       "      padding: 0 0 0 0;\n",
       "      width: 32px;\n",
       "    }\n",
       "\n",
       "    .colab-df-convert:hover {\n",
       "      background-color: #E2EBFA;\n",
       "      box-shadow: 0px 1px 2px rgba(60, 64, 67, 0.3), 0px 1px 3px 1px rgba(60, 64, 67, 0.15);\n",
       "      fill: #174EA6;\n",
       "    }\n",
       "\n",
       "    [theme=dark] .colab-df-convert {\n",
       "      background-color: #3B4455;\n",
       "      fill: #D2E3FC;\n",
       "    }\n",
       "\n",
       "    [theme=dark] .colab-df-convert:hover {\n",
       "      background-color: #434B5C;\n",
       "      box-shadow: 0px 1px 3px 1px rgba(0, 0, 0, 0.15);\n",
       "      filter: drop-shadow(0px 1px 2px rgba(0, 0, 0, 0.3));\n",
       "      fill: #FFFFFF;\n",
       "    }\n",
       "  </style>\n",
       "\n",
       "      <script>\n",
       "        const buttonEl =\n",
       "          document.querySelector('#df-4c0c4940-69af-4d85-92ee-8c58ecb9bb82 button.colab-df-convert');\n",
       "        buttonEl.style.display =\n",
       "          google.colab.kernel.accessAllowed ? 'block' : 'none';\n",
       "\n",
       "        async function convertToInteractive(key) {\n",
       "          const element = document.querySelector('#df-4c0c4940-69af-4d85-92ee-8c58ecb9bb82');\n",
       "          const dataTable =\n",
       "            await google.colab.kernel.invokeFunction('convertToInteractive',\n",
       "                                                     [key], {});\n",
       "          if (!dataTable) return;\n",
       "\n",
       "          const docLinkHtml = 'Like what you see? Visit the ' +\n",
       "            '<a target=\"_blank\" href=https://colab.research.google.com/notebooks/data_table.ipynb>data table notebook</a>'\n",
       "            + ' to learn more about interactive tables.';\n",
       "          element.innerHTML = '';\n",
       "          dataTable['output_type'] = 'display_data';\n",
       "          await google.colab.output.renderOutput(dataTable, element);\n",
       "          const docLink = document.createElement('div');\n",
       "          docLink.innerHTML = docLinkHtml;\n",
       "          element.appendChild(docLink);\n",
       "        }\n",
       "      </script>\n",
       "    </div>\n",
       "  </div>\n",
       "  "
      ],
      "text/plain": [
       "      drugName                     condition  usefulCount  \\\n",
       "0  mirtazapine                    depression           22   \n",
       "1   mesalamine  crohn's disease, maintenance           17   \n",
       "2      bactrim       urinary tract infection            3   \n",
       "\n",
       "                                      cleaned_review  sentiment_score  \\\n",
       "0  tri antidepress year citalopram fluoxetin amit...          -0.4596   \n",
       "1  son crohn diseas done well asacol no complaint...           0.0736   \n",
       "2                              quick reduct symptom            0.0000   \n",
       "\n",
       "   sentiment_score_clean  year  word_count  unique_word_count  char_length  \\\n",
       "0                 0.8470  2012          38                 35          260   \n",
       "1                -0.5423  2009          26                 25          148   \n",
       "2                 0.0000  2017           3                  3           21   \n",
       "\n",
       "   ...        10        11        12        13        14        15        16  \\\n",
       "0  ...  0.065639  0.009914  0.004923  0.137026  0.008752  0.022762  0.009100   \n",
       "1  ...  0.077374  0.071292  0.005803  0.183236  0.010316  0.011928  0.010726   \n",
       "2  ...  0.049701  0.017779  0.008829  0.220508  0.015694  0.018148  0.016318   \n",
       "\n",
       "         17        18        19  \n",
       "0  0.013640  0.089726  0.008125  \n",
       "1  0.016077  0.031240  0.069166  \n",
       "2  0.024460  0.024889  0.014570  \n",
       "\n",
       "[3 rows x 53 columns]"
      ]
     },
     "execution_count": 5,
     "metadata": {},
     "output_type": "execute_result"
    }
   ],
   "source": [
    "X = data.drop(['uniqueID','review','rating','date','review_sentiment'],axis=1)\n",
    "y = data['review_sentiment'].values\n",
    "print(X.shape)\n",
    "X.head(3)"
   ]
  },
  {
   "cell_type": "code",
   "execution_count": null,
   "id": "b0268eb0",
   "metadata": {
    "id": "b0268eb0"
   },
   "outputs": [],
   "source": [
    "from sklearn.model_selection import train_test_split\n",
    "\n",
    "X_train, X_test, y_train, y_test = train_test_split(X,y,stratify=y,test_size=0.30,random_state=42)\n",
    "\n",
    "X_train, X_cv, y_train, y_cv = train_test_split(X_train, y_train,stratify=y_train,test_size=0.30,random_state=42)"
   ]
  },
  {
   "cell_type": "code",
   "execution_count": null,
   "id": "3d1dc289",
   "metadata": {
    "colab": {
     "base_uri": "https://localhost:8080/"
    },
    "id": "3d1dc289",
    "outputId": "a94b5d60-0e74-4c15-cfb9-83fa1121615c"
   },
   "outputs": [
    {
     "name": "stdout",
     "output_type": "stream",
     "text": [
      "Train data size is: (51984, 53)\n",
      "Cross Validation data size is: (22279, 53)\n",
      "Test data size is: (31827, 53)\n"
     ]
    }
   ],
   "source": [
    "print('Train data size is:',X_train.shape)\n",
    "print('Cross Validation data size is:',X_cv.shape)\n",
    "print('Test data size is:',X_test.shape)"
   ]
  },
  {
   "cell_type": "markdown",
   "id": "3ce14622",
   "metadata": {
    "id": "3ce14622"
   },
   "source": [
    "### Encoding Categorical,Text & Numerical features"
   ]
  },
  {
   "cell_type": "markdown",
   "id": "6c65c602",
   "metadata": {
    "id": "6c65c602"
   },
   "source": [
    "Label Encoding the condition and Year feature"
   ]
  },
  {
   "cell_type": "code",
   "execution_count": null,
   "id": "94129f1b",
   "metadata": {
    "colab": {
     "base_uri": "https://localhost:8080/"
    },
    "id": "94129f1b",
    "outputId": "de5edb90-4ca2-4650-f2a1-52bbe12bceba"
   },
   "outputs": [
    {
     "name": "stdout",
     "output_type": "stream",
     "text": [
      "After Encoding\n",
      "Train data shape (51984, 1)\n",
      "Test data shape (31827, 1)\n",
      "CV data shape (22279, 1)\n"
     ]
    }
   ],
   "source": [
    "from sklearn.preprocessing import LabelEncoder\n",
    "\n",
    "lab_enc_cond = LabelEncoder()\n",
    "\n",
    "lab_enc_cond.fit(X['condition'].values)\n",
    "\n",
    "X_train_condition = lab_enc_cond.transform(X_train['condition'].values).reshape(-1,1)\n",
    "X_test_condition = lab_enc_cond.transform(X_test['condition'].values).reshape(-1,1)\n",
    "X_cv_condition = lab_enc_cond.transform(X_cv['condition'].values).reshape(-1,1)\n",
    "\n",
    "print('After Encoding')\n",
    "print('Train data shape',X_train_condition.shape)\n",
    "print('Test data shape',X_test_condition.shape)\n",
    "print('CV data shape',X_cv_condition.shape)"
   ]
  },
  {
   "cell_type": "code",
   "execution_count": null,
   "id": "0ac43a33",
   "metadata": {
    "colab": {
     "base_uri": "https://localhost:8080/"
    },
    "id": "0ac43a33",
    "outputId": "6a665c01-673a-41cc-ab33-98944a29b934"
   },
   "outputs": [
    {
     "name": "stdout",
     "output_type": "stream",
     "text": [
      "After Encoding\n",
      "Train data shape (51984, 1)\n",
      "Test data shape (31827, 1)\n",
      "CV data shape (22279, 1)\n"
     ]
    }
   ],
   "source": [
    "\n",
    "lab_enc_year = LabelEncoder()\n",
    "\n",
    "lab_enc_year.fit(X['year'].values)\n",
    "\n",
    "X_train_year = lab_enc_year.transform(X_train['year'].values).reshape(-1,1)\n",
    "X_test_year = lab_enc_year.transform(X_test['year'].values).reshape(-1,1)\n",
    "X_cv_year = lab_enc_year.transform(X_cv['year'].values).reshape(-1,1)\n",
    "\n",
    "print('After Encoding')\n",
    "print('Train data shape',X_train_year.shape)\n",
    "print('Test data shape',X_test_year.shape)\n",
    "print('CV data shape',X_cv_year.shape)"
   ]
  },
  {
   "cell_type": "code",
   "execution_count": null,
   "id": "726b5ca5",
   "metadata": {
    "id": "726b5ca5"
   },
   "outputs": [],
   "source": [
    "from sklearn.feature_extraction.text import TfidfVectorizer\n",
    "from sklearn.preprocessing import Normalizer,StandardScaler,MinMaxScaler"
   ]
  },
  {
   "cell_type": "markdown",
   "id": "86250d97",
   "metadata": {
    "id": "86250d97"
   },
   "source": [
    "<b>Vectorizing the Cleaned reviews using TF-IDF </b>"
   ]
  },
  {
   "cell_type": "code",
   "execution_count": null,
   "id": "d122686c",
   "metadata": {
    "colab": {
     "base_uri": "https://localhost:8080/"
    },
    "id": "d122686c",
    "outputId": "7e5ac005-c182-4605-c5b8-3c9d6a8a1f4f"
   },
   "outputs": [
    {
     "name": "stdout",
     "output_type": "stream",
     "text": [
      "After Vectorization\n",
      "Train data shape: (51984, 5513)\n",
      "Test data shape: (31827, 5513)\n",
      "CV data shape: (22279, 5513)\n"
     ]
    }
   ],
   "source": [
    "vect_tfidf_1 = TfidfVectorizer(min_df=10,ngram_range=(1,1))\n",
    "\n",
    "vect_tfidf_1.fit(X_train['cleaned_review'].values) # fitted on train data only\n",
    "\n",
    "X_train_review_tfidf_1 = vect_tfidf_1.transform(X_train['cleaned_review'].values)\n",
    "X_test_review_tfidf_1 = vect_tfidf_1.transform(X_test['cleaned_review'].values)\n",
    "X_cv_review_tfidf_1 = vect_tfidf_1.transform(X_cv['cleaned_review'].values)\n",
    "\n",
    "print('After Vectorization')\n",
    "print('Train data shape:',X_train_review_tfidf_1.shape)\n",
    "print('Test data shape:',X_test_review_tfidf_1.shape)\n",
    "print('CV data shape:',X_cv_review_tfidf_1.shape)"
   ]
  },
  {
   "cell_type": "markdown",
   "id": "127d8b20",
   "metadata": {
    "id": "127d8b20"
   },
   "source": [
    "<b>Normalizing the Numerical features</b>"
   ]
  },
  {
   "cell_type": "code",
   "execution_count": null,
   "id": "7d1cd65d",
   "metadata": {
    "id": "7d1cd65d"
   },
   "outputs": [],
   "source": [
    "columns = ['usefulCount','word_count','unique_word_count','char_length','count_punctuations','stopword_count',\n",
    "               'mean_word_len','subj_count','obj_count','CARDINAL','DATE','EVENT','FAC','GPE','LANGUAGE','LAW',\n",
    "            'LOC','MONEY','NORP','ORDINAL','ORG', 'PERCENT','PERSON', 'PRODUCT','QUANTITY','TIME','WORK_OF_ART',\n",
    "           '0','1','2','3','4','5','6','7','8','9','10','11','12','13','14','15','16','17','18','19']"
   ]
  },
  {
   "cell_type": "code",
   "execution_count": null,
   "id": "d43c32b9",
   "metadata": {
    "colab": {
     "base_uri": "https://localhost:8080/"
    },
    "id": "d43c32b9",
    "outputId": "cccf15a1-87ed-4f95-a736-8266d5de0d71"
   },
   "outputs": [
    {
     "name": "stdout",
     "output_type": "stream",
     "text": [
      "After vectorizations\n",
      "(51984, 47) (51984,)\n",
      "(31827, 47) (31827,)\n",
      "(22279, 47) (22279,)\n"
     ]
    }
   ],
   "source": [
    "normalizer = Normalizer()\n",
    "\n",
    "X_train_num_1 = normalizer.fit_transform(X_train[columns])\n",
    "X_test_num_1 = normalizer.fit_transform(X_test[columns])\n",
    "X_cv_num_1 = normalizer.fit_transform(X_cv[columns])\n",
    "\n",
    "print(\"After vectorizations\")\n",
    "print(X_train_num_1.shape, y_train.shape)\n",
    "print(X_test_num_1.shape, y_test.shape)\n",
    "print(X_cv_num_1.shape, y_cv.shape)\n",
    "\n"
   ]
  },
  {
   "cell_type": "code",
   "execution_count": null,
   "id": "513a70c8",
   "metadata": {
    "colab": {
     "base_uri": "https://localhost:8080/"
    },
    "id": "513a70c8",
    "outputId": "3a7f1395-c2b2-4992-a023-32e5c4357f99"
   },
   "outputs": [
    {
     "name": "stdout",
     "output_type": "stream",
     "text": [
      "After vectorizations\n",
      "(51984, 2) (51984,)\n",
      "(31827, 2) (31827,)\n",
      "(22279, 2) (22279,)\n"
     ]
    }
   ],
   "source": [
    "X_train_sent_score = X_train[['sentiment_score','sentiment_score_clean']].values\n",
    "X_test_sent_score = X_test[['sentiment_score','sentiment_score_clean']].values\n",
    "X_cv_sent_score = X_cv[['sentiment_score','sentiment_score_clean']].values\n",
    "\n",
    "print(\"After vectorizations\")\n",
    "print(X_train_sent_score.shape, y_train.shape)\n",
    "print(X_test_sent_score.shape, y_test.shape)\n",
    "print(X_cv_sent_score.shape, y_cv.shape)"
   ]
  },
  {
   "cell_type": "markdown",
   "id": "4efb2cf6",
   "metadata": {
    "id": "4efb2cf6"
   },
   "source": [
    "<b>Next steps:</b>\n",
    "<br>\n",
    "Train the model with different set of features like:\n",
    "- Train the models with TF-IDF vectorized features\n",
    "- Train the model with only review extracted features\n",
    "</br>\n",
    "\n",
    "<br>\n",
    "Pick the best model and evaluate the recommendation score for each drug\n",
    "</br>"
   ]
  },
  {
   "cell_type": "markdown",
   "id": "d2cf63bc",
   "metadata": {
    "id": "d2cf63bc"
   },
   "source": [
    "### Set-1: All  Extracted Features + Sentiment scores"
   ]
  },
  {
   "cell_type": "code",
   "execution_count": null,
   "id": "4493a9bd",
   "metadata": {
    "colab": {
     "base_uri": "https://localhost:8080/"
    },
    "id": "4493a9bd",
    "outputId": "151b40b4-ab68-4a17-f43e-63ac6d37cbec"
   },
   "outputs": [
    {
     "name": "stdout",
     "output_type": "stream",
     "text": [
      "Final Data matrix\n",
      "(51984, 49) (51984,)\n",
      "(31827, 49) (31827,)\n",
      "(22279, 49) (22279,)\n"
     ]
    }
   ],
   "source": [
    "#concatenating all encoded features for set 1\n",
    "\n",
    "from scipy.sparse import hstack\n",
    "X_tr_1 = np.concatenate((X_train_num_1,X_train_sent_score),axis=1)\n",
    "\n",
    "X_te_1 = np.concatenate((X_test_num_1,X_test_sent_score),axis=1)\n",
    "\n",
    "X_cv_1 = np.concatenate((X_cv_num_1,X_cv_sent_score),axis=1)\n",
    "\n",
    "print(\"Final Data matrix\")\n",
    "print(X_tr_1.shape, y_train.shape)\n",
    "print(X_te_1.shape, y_test.shape)\n",
    "print(X_cv_1.shape, y_cv.shape)"
   ]
  },
  {
   "cell_type": "markdown",
   "id": "1325f2c3",
   "metadata": {
    "id": "1325f2c3"
   },
   "source": [
    "## Modelling"
   ]
  },
  {
   "cell_type": "code",
   "execution_count": null,
   "id": "b64fcc16",
   "metadata": {
    "id": "b64fcc16"
   },
   "outputs": [],
   "source": [
    "from sklearn.metrics import log_loss, accuracy_score,confusion_matrix, f1_score,roc_auc_score,roc_curve\n",
    "from sklearn.neighbors import KNeighborsClassifier\n",
    "from sklearn.calibration import CalibratedClassifierCV\n",
    "from tqdm import tqdm\n",
    "from sklearn.linear_model import LogisticRegression\n",
    "from sklearn.svm import SVC, LinearSVC\n",
    "from sklearn.ensemble import RandomForestClassifier\n",
    "from sklearn.model_selection import RandomizedSearchCV\n",
    "from xgboost import XGBClassifier\n",
    "import warnings\n",
    "warnings.filterwarnings(\"ignore\")\n",
    "import joblib"
   ]
  },
  {
   "cell_type": "code",
   "execution_count": null,
   "id": "4ab7897e",
   "metadata": {
    "id": "4ab7897e"
   },
   "outputs": [],
   "source": [
    "def model_metrics(clf,train_data,test_data,cv_data):\n",
    "\n",
    "    print('**LogLoss**')\n",
    "    predict_y = clf.predict_proba(train_data)\n",
    "    print (\"The train log loss is:\",log_loss(y_train, predict_y))\n",
    "    predict_y = clf.predict_proba(cv_data)\n",
    "    print( \"The cross validation log loss is:\",log_loss(y_cv, predict_y))\n",
    "    predict_y = clf.predict_proba(test_data)\n",
    "    print( \"The test log loss is:\",log_loss(y_test, predict_y))\n",
    "\n",
    "    print(50*'-')\n",
    "\n",
    "    print('**Accuracy**')\n",
    "    y_pred_tr = clf.predict(train_data)\n",
    "    print (\"The train Accuracy is:\",accuracy_score(y_train, y_pred_tr))\n",
    "    y_pred_cv = clf.predict(cv_data)\n",
    "    print( \"The cross validation Accuracy is:\",accuracy_score(y_cv, y_pred_cv))\n",
    "    y_pred_te = clf.predict(test_data)\n",
    "    print( \"The test Accuracy is:\",accuracy_score(y_test, y_pred_te))\n",
    "\n",
    "    print(50*'-')\n",
    "\n",
    "\n",
    "    print('**F1 Score**')\n",
    "    print (\"The train F1 score is:\",f1_score(y_train, y_pred_tr))\n",
    "    print( \"The cross validation F1 score is:\",f1_score(y_cv, y_pred_cv))\n",
    "    print( \"The test F1 score is:\",f1_score(y_test, y_pred_te))\n",
    "\n",
    "    print(50*'-')\n",
    "\n",
    "    print('**AUC**')\n",
    "    print (\"The train AUC is:\",roc_auc_score(y_train, y_pred_tr))\n",
    "    print( \"The cross validation AUC is:\",roc_auc_score(y_cv, y_pred_cv))\n",
    "    print( \"The test AUC is:\",roc_auc_score(y_test, y_pred_te))\n",
    "\n",
    "    print(50*'-')"
   ]
  },
  {
   "cell_type": "markdown",
   "id": "7beccdc4",
   "metadata": {
    "id": "7beccdc4"
   },
   "source": [
    "### Random Model"
   ]
  },
  {
   "cell_type": "code",
   "execution_count": null,
   "id": "2f032c7e",
   "metadata": {
    "colab": {
     "base_uri": "https://localhost:8080/"
    },
    "id": "2f032c7e",
    "outputId": "6c7b04cf-47c6-4c74-b48e-d3973e07e96e"
   },
   "outputs": [
    {
     "name": "stdout",
     "output_type": "stream",
     "text": [
      "Log loss on Test Data using Random Model 0.8800086794452553\n",
      "Accuray on Test Data using Random Model 0.49945015238633866\n",
      "F1 score on Test Data using Random Model 0.5822691874033091\n",
      "AUC on Test Data using Random Model 0.49939921744949833\n"
     ]
    }
   ],
   "source": [
    "test_len = len(y_test)\n",
    "predicted_y = np.zeros((test_len,2))\n",
    "for i in range(test_len):\n",
    "    rand_probs = np.random.rand(1,2)\n",
    "    predicted_y[i] = ((rand_probs/sum(sum(rand_probs)))[0])\n",
    "print(\"Log loss on Test Data using Random Model\",log_loss(y_test, predicted_y, eps=1e-15))\n",
    "\n",
    "predicted_y =np.argmax(predicted_y, axis=1)\n",
    "\n",
    "print(\"Accuray on Test Data using Random Model\",accuracy_score(y_test, predicted_y))\n",
    "print(\"F1 score on Test Data using Random Model\",f1_score(y_test, predicted_y))\n",
    "print(\"AUC on Test Data using Random Model\",roc_auc_score(y_test, predicted_y))\n"
   ]
  },
  {
   "cell_type": "code",
   "execution_count": null,
   "id": "9024a555",
   "metadata": {
    "colab": {
     "base_uri": "https://localhost:8080/",
     "height": 230
    },
    "id": "9024a555",
    "outputId": "81dd3395-b5e5-43c8-b0c0-a74508a3f842"
   },
   "outputs": [
    {
     "name": "stdout",
     "output_type": "stream",
     "text": [
      "Number of misclassified points  50.05498476136614\n"
     ]
    },
    {
     "data": {
      "image/png": "[encoded data removed]",
      "text/plain": [
       "<Figure size 2000x400 with 6 Axes>"
      ]
     },
     "metadata": {},
     "output_type": "display_data"
    }
   ],
   "source": [
    "plot_confusion_matrix(y_test,predicted_y)"
   ]
  },
  {
   "cell_type": "markdown",
   "id": "bfb73ec6",
   "metadata": {
    "id": "bfb73ec6"
   },
   "source": [
    "Observation:\n",
    "- The Random model shows that the worst case log loss,F1 score, Accuracy and AUC."
   ]
  },
  {
   "cell_type": "markdown",
   "id": "ef2fe88e",
   "metadata": {
    "id": "ef2fe88e"
   },
   "source": [
    "### K Nearest Neighbour Classification"
   ]
  },
  {
   "cell_type": "code",
   "execution_count": null,
   "id": "0a97c884",
   "metadata": {
    "colab": {
     "base_uri": "https://localhost:8080/"
    },
    "id": "0a97c884",
    "outputId": "3b1193b1-fa4d-4e04-fa2a-f3472db760e7"
   },
   "outputs": [
    {
     "name": "stdout",
     "output_type": "stream",
     "text": [
      "Fitting 3 folds for each of 7 candidates, totalling 21 fits\n",
      "{'n_neighbors': 1}\n"
     ]
    }
   ],
   "source": [
    "param ={'n_neighbors': [x for x in range(1, 15, 2)]}\n",
    "\n",
    "k_cfl = KNeighborsClassifier()\n",
    "\n",
    "random_kcfl = RandomizedSearchCV(k_cfl,param_distributions=param,scoring='f1',verbose=1,n_jobs=-1,cv=3)\n",
    "random_kcfl.fit(X_tr_1,y_train)\n",
    "\n",
    "print(random_kcfl.best_params_)\n"
   ]
  },
  {
   "cell_type": "code",
   "execution_count": null,
   "id": "13fd8bed",
   "metadata": {
    "colab": {
     "base_uri": "https://localhost:8080/",
     "height": 581
    },
    "id": "13fd8bed",
    "outputId": "5e6df375-0b0e-490f-caed-9949e6e9738f"
   },
   "outputs": [
    {
     "name": "stdout",
     "output_type": "stream",
     "text": [
      "**LogLoss**\n",
      "The train log loss is: 0.486642221846536\n",
      "The cross validation log loss is: 0.5297354353671754\n",
      "The test log loss is: 0.5319799006192301\n",
      "--------------------------------------------------\n",
      "**Accuracy**\n",
      "The train Accuracy is: 0.7634464450600185\n",
      "The cross validation Accuracy is: 0.7327977018717178\n",
      "The test Accuracy is: 0.7344393125333836\n",
      "--------------------------------------------------\n",
      "**F1 Score**\n",
      "The train F1 score is: 0.8460854872019526\n",
      "The cross validation F1 score is: 0.8266099670870591\n",
      "The test F1 score is: 0.8273622288492176\n",
      "--------------------------------------------------\n",
      "**AUC**\n",
      "The train AUC is: 0.6532547714987273\n",
      "The cross validation AUC is: 0.6149347414909148\n",
      "The test AUC is: 0.6181987138390246\n",
      "--------------------------------------------------\n",
      "Number of misclassified points  26.556068746661637\n"
     ]
    },
    {
     "data": {
      "image/png": "[encoded data removed]",
      "text/plain": [
       "<Figure size 2000x400 with 6 Axes>"
      ]
     },
     "metadata": {},
     "output_type": "display_data"
    }
   ],
   "source": [
    "k_cfl=KNeighborsClassifier(n_neighbors=13,n_jobs=-1)\n",
    "k_cfl.fit(X_tr_1,y_train)\n",
    "sig_clf = CalibratedClassifierCV(k_cfl, method=\"sigmoid\")\n",
    "sig_clf.fit(X_tr_1, y_train)\n",
    "\n",
    "model_metrics(sig_clf,X_tr_1,X_te_1,X_cv_1)\n",
    "\n",
    "plot_confusion_matrix(y_test, sig_clf.predict(X_te_1))\n"
   ]
  },
  {
   "cell_type": "markdown",
   "id": "416bb628",
   "metadata": {
    "id": "416bb628"
   },
   "source": [
    "### Logistic Regression"
   ]
  },
  {
   "cell_type": "code",
   "execution_count": null,
   "id": "5ff6657f",
   "metadata": {
    "colab": {
     "base_uri": "https://localhost:8080/"
    },
    "id": "5ff6657f",
    "outputId": "90d76fd1-13fc-4370-f133-a5ed888bb87b",
    "scrolled": false
   },
   "outputs": [
    {
     "name": "stdout",
     "output_type": "stream",
     "text": [
      "Fitting 3 folds for each of 9 candidates, totalling 27 fits\n",
      "{'C': 1000}\n"
     ]
    }
   ],
   "source": [
    "param = {'C':[10 ** x for x in range(-5, 4)]}\n",
    "\n",
    "logisticR=LogisticRegression(penalty='l2',class_weight='balanced')\n",
    "\n",
    "random_lr = RandomizedSearchCV(logisticR,param_distributions=param,scoring='f1',verbose=1,n_jobs=-1,cv=3)\n",
    "random_lr.fit(X_tr_1,y_train)\n",
    "\n",
    "print(random_lr.best_params_)\n"
   ]
  },
  {
   "cell_type": "code",
   "execution_count": null,
   "id": "fd4d440a",
   "metadata": {
    "colab": {
     "base_uri": "https://localhost:8080/",
     "height": 581
    },
    "id": "fd4d440a",
    "outputId": "1915e5cd-1812-4207-b841-67ba44496b77"
   },
   "outputs": [
    {
     "name": "stdout",
     "output_type": "stream",
     "text": [
      "**LogLoss**\n",
      "The train log loss is: 0.5365317639141334\n",
      "The cross validation log loss is: 0.535775042398672\n",
      "The test log loss is: 0.5388120544202494\n",
      "--------------------------------------------------\n",
      "**Accuracy**\n",
      "The train Accuracy is: 0.7329562942443829\n",
      "The cross validation Accuracy is: 0.7320795367835181\n",
      "The test Accuracy is: 0.7293807144876991\n",
      "--------------------------------------------------\n",
      "**F1 Score**\n",
      "The train F1 score is: 0.8243585201680247\n",
      "The cross validation F1 score is: 0.8236684292930785\n",
      "The test F1 score is: 0.8223134528500403\n",
      "--------------------------------------------------\n",
      "**AUC**\n",
      "The train AUC is: 0.6248494150304459\n",
      "The cross validation AUC is: 0.6242692514132075\n",
      "The test AUC is: 0.6193702760156566\n",
      "--------------------------------------------------\n",
      "Number of misclassified points  27.061928551230086\n"
     ]
    },
    {
     "data": {
      "image/png": "[encoded data removed]",
      "text/plain": [
       "<Figure size 2000x400 with 6 Axes>"
      ]
     },
     "metadata": {},
     "output_type": "display_data"
    }
   ],
   "source": [
    "logisticR=LogisticRegression(C=100 ,penalty='l2',class_weight='balanced',n_jobs=-1)\n",
    "logisticR.fit(X_tr_1,y_train)\n",
    "sig_clf = CalibratedClassifierCV(logisticR, method=\"sigmoid\")\n",
    "sig_clf.fit(X_tr_1, y_train)\n",
    "\n",
    "\n",
    "model_metrics(sig_clf,X_tr_1,X_te_1,X_cv_1)\n",
    "\n",
    "plot_confusion_matrix(y_test, sig_clf.predict(X_te_1))"
   ]
  },
  {
   "cell_type": "markdown",
   "id": "0ed36731",
   "metadata": {
    "id": "0ed36731"
   },
   "source": [
    "### Linear Support Vector Classification"
   ]
  },
  {
   "cell_type": "code",
   "execution_count": null,
   "id": "36c728d2",
   "metadata": {
    "colab": {
     "base_uri": "https://localhost:8080/"
    },
    "id": "36c728d2",
    "outputId": "5a1a16ba-62f6-4b73-b745-5abdb4ce9e29",
    "scrolled": false
   },
   "outputs": [
    {
     "name": "stdout",
     "output_type": "stream",
     "text": [
      "Fitting 3 folds for each of 4 candidates, totalling 12 fits\n",
      "{'C': 0.001}\n"
     ]
    }
   ],
   "source": [
    "param= {'C':[0.001,1,10,100]}\n",
    "\n",
    "linSVC=LinearSVC(penalty='l2',loss='hinge')\n",
    "\n",
    "random_svc = RandomizedSearchCV(linSVC,param_distributions=param,scoring='f1',verbose=1,n_jobs=-1,cv=3)\n",
    "random_svc.fit(X_tr_1,y_train)\n",
    "\n",
    "print(random_svc.best_params_)\n"
   ]
  },
  {
   "cell_type": "code",
   "execution_count": null,
   "id": "b2b27162",
   "metadata": {
    "colab": {
     "base_uri": "https://localhost:8080/",
     "height": 581
    },
    "id": "b2b27162",
    "outputId": "9d6a8495-5dc5-4969-9cf6-155f891a1fd8"
   },
   "outputs": [
    {
     "name": "stdout",
     "output_type": "stream",
     "text": [
      "**LogLoss**\n",
      "The train log loss is: 0.5624501466797063\n",
      "The cross validation log loss is: 0.5633560346160407\n",
      "The test log loss is: 0.565633666445832\n",
      "--------------------------------------------------\n",
      "**Accuracy**\n",
      "The train Accuracy is: 0.7117189904586027\n",
      "The cross validation Accuracy is: 0.7104896988195162\n",
      "The test Accuracy is: 0.7102460175322839\n",
      "--------------------------------------------------\n",
      "**F1 Score**\n",
      "The train F1 score is: 0.8203376013043688\n",
      "The cross validation F1 score is: 0.8197619180685185\n",
      "The test F1 score is: 0.8191622872382147\n",
      "--------------------------------------------------\n",
      "**AUC**\n",
      "The train AUC is: 0.5600089184527932\n",
      "The cross validation AUC is: 0.5577509830093745\n",
      "The test AUC is: 0.5593356475232826\n",
      "--------------------------------------------------\n",
      "Number of misclassified points  28.97539824677161\n"
     ]
    },
    {
     "data": {
      "image/png": "[encoded data removed]",
      "text/plain": [
       "<Figure size 2000x400 with 6 Axes>"
      ]
     },
     "metadata": {},
     "output_type": "display_data"
    }
   ],
   "source": [
    "linSVC=LinearSVC(C=0.001 ,penalty='l2',loss='hinge')\n",
    "linSVC.fit(X_tr_1,y_train)\n",
    "sig_clf = CalibratedClassifierCV(linSVC, method=\"sigmoid\")\n",
    "sig_clf.fit(X_tr_1, y_train)\n",
    "\n",
    "\n",
    "model_metrics(sig_clf,X_tr_1,X_te_1,X_cv_1)\n",
    "\n",
    "plot_confusion_matrix(y_test, sig_clf.predict(X_te_1))"
   ]
  },
  {
   "cell_type": "markdown",
   "id": "7a14d0df",
   "metadata": {
    "id": "7a14d0df"
   },
   "source": [
    "### Random Forest Classifier"
   ]
  },
  {
   "cell_type": "code",
   "execution_count": null,
   "id": "04919d00",
   "metadata": {
    "colab": {
     "background_save": true
    },
    "id": "04919d00",
    "outputId": "1cf420c6-d2f5-4498-818c-5223ae7f244c"
   },
   "outputs": [
    {
     "name": "stdout",
     "output_type": "stream",
     "text": [
      "{'n_estimators': 3000}\n"
     ]
    }
   ],
   "source": [
    "param = {'n_estimators':[100,500,1000,2000,3000]}\n",
    "\n",
    "rf_clf =RandomForestClassifier(random_state=42,n_jobs=-1)\n",
    "\n",
    "random_rf = RandomizedSearchCV(rf_clf,param_distributions=param,scoring='f1',verbose=0,n_jobs=-1,cv=3)\n",
    "random_rf.fit(X_tr_1,y_train)\n",
    "\n",
    "print(random_rf.best_params_)"
   ]
  },
  {
   "cell_type": "code",
   "execution_count": null,
   "id": "2d36c070",
   "metadata": {
    "id": "2d36c070"
   },
   "outputs": [],
   "source": [
    "rf_clf =RandomForestClassifier(n_estimators=3000 ,random_state=42,n_jobs=-1)\n",
    "rf_clf.fit(X_tr_1,y_train)\n",
    "sig_clf = CalibratedClassifierCV(rf_clf, method=\"sigmoid\")\n",
    "sig_clf.fit(X_tr_1, y_train)\n",
    "\n",
    "\n",
    "model_metrics(sig_clf,X_tr_1,X_te_1,X_cv_1)\n",
    "\n",
    "plot_confusion_matrix(y_test, sig_clf.predict(X_te_1))"
   ]
  },
  {
   "cell_type": "markdown",
   "id": "489760fc",
   "metadata": {
    "id": "489760fc"
   },
   "source": [
    "### XGBOOST Classifier"
   ]
  },
  {
   "cell_type": "code",
   "execution_count": null,
   "id": "4447edb2",
   "metadata": {
    "id": "4447edb2"
   },
   "outputs": [],
   "source": [
    "param = {'n_estimators':[100,500,1000,2000,3000]}\n",
    "\n",
    "x_clf =XGBClassifier(nthread=-1,eval_metric='logloss',objective='binary:logistic', random_state=0)\n",
    "\n",
    "random_xgb = RandomizedSearchCV(x_clf,param_distributions=param,scoring='f1',verbose=0,n_jobs=-1,cv=3)\n",
    "random_xgb.fit(X_tr_1,y_train)\n",
    "\n",
    "print(random_xgb.best_params_)"
   ]
  },
  {
   "cell_type": "code",
   "execution_count": null,
   "id": "5c9a47cc",
   "metadata": {
    "id": "5c9a47cc"
   },
   "outputs": [],
   "source": [
    "#https://machinelearningmastery.com/avoid-overfitting-by-early-stopping-with-xgboost-in-python/\n",
    "\n",
    "eval_set = [(X_tr_1, y_train), (X_te_1, y_test)]\n",
    "\n",
    "x_clf =XGBClassifier(n_estimators=3000,nthread=-1,eval_metric='logloss',objective='binary:logistic',random_state=0)\n",
    "x_clf.fit(X_tr_1,y_train,eval_set=eval_set,verbose=0)\n",
    "sig_clf = CalibratedClassifierCV(x_clf, method=\"sigmoid\")\n",
    "sig_clf.fit(X_tr_1, y_train)\n",
    "\n",
    "\n",
    "model_metrics(sig_clf,X_tr_1,X_te_1,X_cv_1)\n",
    "\n",
    "results = x_clf.evals_result()\n",
    "epochs = len(results['validation_0']['logloss'])\n",
    "x_axis = range(0, epochs)\n",
    "# plot log loss\n",
    "fig, ax = plt.subplots()\n",
    "ax.plot(x_axis, results['validation_0']['logloss'], label='Train')\n",
    "ax.plot(x_axis, results['validation_1']['logloss'], label='Test')\n",
    "ax.legend()\n",
    "plt.ylabel('Log Loss')\n",
    "plt.title('XGBoost Log Loss')\n",
    "plt.show()\n",
    "\n",
    "\n",
    "plot_confusion_matrix(y_test, sig_clf.predict(X_te_1))"
   ]
  },
  {
   "cell_type": "markdown",
   "id": "0484c4a2",
   "metadata": {
    "id": "0484c4a2"
   },
   "source": [
    "<b> Observations:</b>\n",
    "- For all the numerical features, the Random Forest and XGB Classifiers works well but both of them are observed to be overfitting. We need to tune the hyperparameters to avoid overfitting in later stages.\n",
    "- Using Random Forest classifier, the important numerical features can be selected for further modelling."
   ]
  },
  {
   "cell_type": "code",
   "execution_count": null,
   "id": "8ce7ac62",
   "metadata": {
    "id": "8ce7ac62"
   },
   "outputs": [],
   "source": [
    "columns = ['usefulCount', 'sentiment_score', 'sentiment_score_clean', 'word_count',\n",
    "       'unique_word_count', 'char_length', 'count_punctuations',\n",
    "       'stopword_count', 'mean_word_len', 'subj_count', 'obj_count',\n",
    "       'CARDINAL', 'DATE', 'EVENT', 'FAC', 'GPE', 'LANGUAGE', 'LAW', 'LOC',\n",
    "       'MONEY', 'NORP', 'ORDINAL', 'ORG', 'PERCENT', 'PERSON', 'PRODUCT',\n",
    "       'QUANTITY', 'TIME', 'WORK_OF_ART', '0', '1', '2', '3', '4', '5', '6',\n",
    "       '7', '8', '9', '10', '11', '12', '13', '14', '15', '16', '17', '18',\n",
    "       '19']"
   ]
  },
  {
   "cell_type": "code",
   "execution_count": null,
   "id": "284d0a79",
   "metadata": {
    "id": "284d0a79"
   },
   "outputs": [],
   "source": [
    "# https://chrisalbon.com/code/machine_learning/trees_and_forests/feature_selection_using_random_forest/\n",
    "# https://towardsdatascience.com/feature-selection-using-random-forest-26d7b747597f\n",
    "\n",
    "from sklearn.feature_selection import SelectFromModel\n",
    "\n",
    "def feature_selection_RF(classifier,train_data):\n",
    "\n",
    "    '''this function takes classifier and data as input and returns the columns/features need to be dropped'''\n",
    "\n",
    "    model = SelectFromModel(classifier,prefit=True)\n",
    "\n",
    "    X_new = model.transform(train_data)\n",
    "\n",
    "    print('Important features count from RF feature importance are:',X_new.shape)\n",
    "\n",
    "    idx = list(model.get_support())\n",
    "    col= np.array(columns)\n",
    "    imp_col = col[idx]\n",
    "    all_col = columns\n",
    "    drop_col=[]\n",
    "    for i in all_col:\n",
    "        if i not in imp_col:\n",
    "            drop_col.append(i)\n",
    "    print('Count of features to be dropped:',len(drop_col))\n",
    "\n",
    "    return drop_col\n"
   ]
  },
  {
   "cell_type": "code",
   "execution_count": null,
   "id": "ff70f383",
   "metadata": {
    "id": "ff70f383"
   },
   "outputs": [],
   "source": [
    "drop_col = feature_selection_RF(rf_clf,X_tr_1) # feature selection using RF feature importances"
   ]
  },
  {
   "cell_type": "code",
   "execution_count": null,
   "id": "f028e8a5",
   "metadata": {
    "id": "f028e8a5"
   },
   "outputs": [],
   "source": [
    "drop_col"
   ]
  },
  {
   "cell_type": "markdown",
   "id": "5c1b3602",
   "metadata": {
    "id": "5c1b3602"
   },
   "source": [
    "- From Random Forest feature selection, 20 features can be dropped from our dataset and consider the 29 features for next step of modelling"
   ]
  },
  {
   "cell_type": "code",
   "execution_count": null,
   "id": "bc02d442",
   "metadata": {
    "id": "bc02d442"
   },
   "outputs": [],
   "source": [
    "drop_col = ['subj_count', 'obj_count', 'CARDINAL', 'DATE', 'EVENT', 'FAC', 'GPE', 'LANGUAGE', 'LAW', 'LOC', 'MONEY',\n",
    " 'NORP', 'ORDINAL', 'ORG', 'PERCENT', 'PERSON', 'PRODUCT', 'QUANTITY', '9', '14']"
   ]
  },
  {
   "cell_type": "code",
   "execution_count": null,
   "id": "fd178928",
   "metadata": {
    "id": "fd178928"
   },
   "outputs": [],
   "source": [
    "X_train = X_train.drop(drop_col,axis=1)\n",
    "X_test = X_test.drop(drop_col,axis=1)\n",
    "X_cv = X_cv.drop(drop_col,axis=1)\n",
    "\n",
    "print(\"After dropping the columns the new shapes are:\")\n",
    "print('Train data size:',X_train.shape)\n",
    "print('Test data size:',X_test.shape)\n",
    "print('CV data size:',X_cv.shape)"
   ]
  },
  {
   "cell_type": "code",
   "execution_count": null,
   "id": "0305702e",
   "metadata": {
    "id": "0305702e",
    "outputId": "72a0891d-3e53-4774-8a9d-6557d8aadb72"
   },
   "outputs": [
    {
     "data": {
      "text/plain": [
       "Index(['drugName', 'condition', 'usefulCount', 'cleaned_review',\n",
       "       'sentiment_score', 'sentiment_score_clean', 'year', 'word_count',\n",
       "       'unique_word_count', 'char_length', 'count_punctuations',\n",
       "       'stopword_count', 'mean_word_len', 'TIME', 'WORK_OF_ART', '0', '1', '2',\n",
       "       '3', '4', '5', '6', '7', '8', '10', '11', '12', '13', '15', '16', '17',\n",
       "       '18', '19'],\n",
       "      dtype='object')"
      ]
     },
     "execution_count": 22,
     "metadata": {},
     "output_type": "execute_result"
    }
   ],
   "source": [
    "X_train.columns"
   ]
  },
  {
   "cell_type": "code",
   "execution_count": null,
   "id": "e1658899",
   "metadata": {
    "id": "e1658899"
   },
   "outputs": [],
   "source": [
    "imp_columns = ['usefulCount','word_count', 'unique_word_count', 'char_length', 'count_punctuations',\n",
    "       'stopword_count', 'mean_word_len', 'TIME', 'WORK_OF_ART', '0', '1', '2',\n",
    "               '3', '4', '5', '6', '7', '8', '10', '11', '12', '13', '15', '16', '17', '18', '19']\n"
   ]
  },
  {
   "cell_type": "code",
   "execution_count": null,
   "id": "ca13787e",
   "metadata": {
    "id": "ca13787e"
   },
   "outputs": [],
   "source": [
    "# Normalizing the features after dropping the unimportant features\n",
    "\n",
    "normalizer = Normalizer()\n",
    "\n",
    "X_train_num_2 = normalizer.fit_transform(X_train[imp_columns])\n",
    "X_test_num_2 = normalizer.fit_transform(X_test[imp_columns])\n",
    "X_cv_num_2 = normalizer.fit_transform(X_cv[imp_columns])\n",
    "\n",
    "print(\"After vectorizations\")\n",
    "print(X_train_num_2.shape, y_train.shape)\n",
    "print(X_test_num_2.shape, y_test.shape)\n",
    "print(X_cv_num_2.shape, y_cv.shape)\n"
   ]
  },
  {
   "cell_type": "markdown",
   "id": "cdd4b5a3",
   "metadata": {
    "id": "cdd4b5a3"
   },
   "source": [
    "### Set - 1 : Important Numerical Features + Sentiment Scores"
   ]
  },
  {
   "cell_type": "code",
   "execution_count": null,
   "id": "ca94be03",
   "metadata": {
    "id": "ca94be03"
   },
   "outputs": [],
   "source": [
    "#concatenating all encoded features for set 1\n",
    "\n",
    "from scipy.sparse import hstack\n",
    "X_tr_1 = np.concatenate((X_train_num_2,X_train_sent_score),axis=1)\n",
    "\n",
    "X_te_1 = np.concatenate((X_test_num_2,X_test_sent_score),axis=1)\n",
    "\n",
    "X_cv_1 = np.concatenate((X_cv_num_2,X_cv_sent_score),axis=1)\n",
    "\n",
    "print(\"Final Data matrix\")\n",
    "print(X_tr_1.shape, y_train.shape)\n",
    "print(X_te_1.shape, y_test.shape)\n",
    "print(X_cv_1.shape, y_cv.shape)"
   ]
  },
  {
   "cell_type": "markdown",
   "id": "18b13330",
   "metadata": {
    "id": "18b13330"
   },
   "source": [
    "#### HyperParameter Tuning on XGBClassifier"
   ]
  },
  {
   "cell_type": "code",
   "execution_count": null,
   "id": "17c38395",
   "metadata": {
    "id": "17c38395",
    "scrolled": true
   },
   "outputs": [],
   "source": [
    "x_cfl_1 = XGBClassifier()\n",
    "prams={\n",
    "'learning_rate':[0.01,0.03,0.05,0.1,0.15,0.2],\n",
    "'n_estimators':[100,500,1000,2000,3000],\n",
    "'max_depth':[3,5,7,10,30,50],\n",
    "'colsample_bytree':[0.1,0.3,0.5,1],\n",
    "'subsample':[0.1,0.3,0.5,1]\n",
    "}\n",
    "x_random_cfl_1 = RandomizedSearchCV(x_cfl_1,param_distributions=prams,verbose=0,n_jobs=-1,cv=3,scoring='f1')\n",
    "x_random_cfl_1.fit(X_tr_1,y_train)\n",
    "\n",
    "print(x_random_cfl_1.best_params_)\n",
    "print(x_random_cfl_1.best_score_)"
   ]
  },
  {
   "cell_type": "markdown",
   "id": "583ee272",
   "metadata": {
    "id": "583ee272"
   },
   "source": [
    "#### Training the XGB Classifier with Best parameters"
   ]
  },
  {
   "cell_type": "code",
   "execution_count": null,
   "id": "db2d6967",
   "metadata": {
    "id": "db2d6967"
   },
   "outputs": [],
   "source": [
    "\n",
    "# Here early stopping parameter has been used as in the above xgboost model there is an overfitting\n",
    "# occured with same 3000 estimators\n",
    "\n",
    "\n",
    "eval_set = [(X_tr_1, y_train), (X_cv_1, y_cv)]\n",
    "\n",
    "x_cfl_1=XGBClassifier(n_estimators=3000,subsample=1,max_depth=30,learning_rate=0.2,colsample_bytree=0.5,nthread=-1,objective='binary:logistic', random_state=0)\n",
    "x_cfl_1.fit(X_tr_1,y_train,eval_set=eval_set,eval_metric='logloss',verbose=0,early_stopping_rounds=30)\n",
    "x_sig_clf_1 = CalibratedClassifierCV(x_cfl_1, method=\"sigmoid\")\n",
    "x_sig_clf_1.fit(X_tr_1, y_train)\n",
    "\n",
    "model_metrics(x_sig_clf_1,X_tr_1,X_te_1,X_cv_1)\n",
    "\n",
    "results = x_cfl_1.evals_result()\n",
    "epochs = len(results['validation_0']['logloss'])\n",
    "x_axis = range(0, epochs)\n",
    "# plot log loss\n",
    "fig, ax = plt.subplots()\n",
    "ax.plot(x_axis, results['validation_0']['logloss'], label='Train')\n",
    "ax.plot(x_axis, results['validation_1']['logloss'], label='Test')\n",
    "ax.legend()\n",
    "plt.ylabel('Log Loss')\n",
    "plt.title('XGBoost Log Loss')\n",
    "plt.show()\n",
    "\n",
    "\n",
    "plot_confusion_matrix(y_test, x_sig_clf_1.predict(X_te_1))"
   ]
  },
  {
   "cell_type": "markdown",
   "id": "8ffc6dac",
   "metadata": {
    "id": "8ffc6dac"
   },
   "source": [
    "<b>Observations:\n",
    "- The XGB classifier with hyper parameter tuning performs well on Set 1 features with log loss of 0.3998 and F1 scoe of 0.895\n",
    "- This model is saved for Set 1 features"
   ]
  },
  {
   "cell_type": "markdown",
   "id": "aa08ebe0",
   "metadata": {
    "id": "aa08ebe0"
   },
   "source": [
    "\n",
    "### Model Evaluation Metrics summary"
   ]
  },
  {
   "cell_type": "markdown",
   "id": "be1a4240",
   "metadata": {
    "id": "be1a4240"
   },
   "source": [
    "### Recommendation system"
   ]
  },
  {
   "cell_type": "code",
   "execution_count": null,
   "id": "94484e6d",
   "metadata": {
    "id": "94484e6d"
   },
   "outputs": [],
   "source": [
    "def userful_count(data,feature):\n",
    "    '''this function takes dataframe and feature as input and normalize the given feature'''\n",
    "\n",
    "    max_value = data[feature].max()\n",
    "    min_value = data[feature].min()\n",
    "    data[feature] = (data[feature] - min_value) / (max_value - min_value)\n",
    "    return data"
   ]
  },
  {
   "cell_type": "code",
   "execution_count": null,
   "id": "b929a2c5",
   "metadata": {
    "id": "b929a2c5"
   },
   "outputs": [],
   "source": [
    "\n",
    "# Each model predictions are stored as one column and recommendation score is calculated by adding predictions\n",
    "# of 5 models multiplied by its normalized useful count\n",
    "\n",
    "X_test['model2'] = model_2.predict(X_te_2)\n",
    "X_test['model3'] = model_3.predict(X_te_3)\n",
    "X_test['model4'] = model_4.predict(X_te_4)\n",
    "X_test['model5'] = model_5.predict(X_te_5)\n",
    "X_test['model6'] = model_6.predict(X_te_6)\n",
    "\n",
    "X_test =  userful_count(X_test,'usefulCount')\n",
    "#X_test['usefulCount'] = X_test['usefulCount']/X_test['user_size']\n",
    "\n",
    "X_test['rec_score'] = (X_test['model2']+X_test['model3']+X_test['model4']+X_test['model5']+X_test['model6'])*X_test['usefulCount']\n",
    "\n",
    "X_test.head()"
   ]
  },
  {
   "cell_type": "code",
   "execution_count": null,
   "id": "0b18949c",
   "metadata": {
    "id": "0b18949c"
   },
   "outputs": [],
   "source": [
    "#X_test.to_csv('validation_data.csv',index=False)"
   ]
  },
  {
   "cell_type": "code",
   "execution_count": null,
   "id": "6a0cae43",
   "metadata": {
    "id": "6a0cae43"
   },
   "outputs": [],
   "source": [
    "# grouping the datafrom with respect to condition and drugname.\n",
    "\n",
    "df = X_test.groupby(['condition','drugName']).agg({'rec_score':['sum']})\n"
   ]
  },
  {
   "cell_type": "code",
   "execution_count": null,
   "id": "e56b5c3f",
   "metadata": {
    "id": "e56b5c3f",
    "scrolled": true
   },
   "outputs": [],
   "source": [
    "df.tail()"
   ]
  },
  {
   "cell_type": "markdown",
   "id": "4942e142",
   "metadata": {
    "id": "4942e142"
   },
   "source": [
    "<b> Validation for one condition </b>"
   ]
  },
  {
   "cell_type": "code",
   "execution_count": null,
   "id": "045afec3",
   "metadata": {
    "id": "045afec3"
   },
   "outputs": [],
   "source": [
    "X_test[X_test['condition']=='zen shoulde'].sort_values(by=['rec_score'],ascending=False)"
   ]
  },
  {
   "cell_type": "markdown",
   "id": "c003ebe0",
   "metadata": {
    "id": "c003ebe0"
   },
   "source": [
    "<b> Observations:</b>\n",
    "- The drug named 'diclofenac' for condition 'zen shoulde' is present two times. Based on the 5 models prediction and useful count, the recommendation score is calculated. The final score of each drug is calculated by addition of same drugs score for a given condition. Hence for this condition,'diclofenac' this drug is recommended with high score"
   ]
  },
  {
   "cell_type": "markdown",
   "id": "fb40559f",
   "metadata": {
    "id": "fb40559f"
   },
   "source": [
    "- Based on some observations like for condition 'birth control' we have total of 11563 entries for different drugs used. And for each drug for ex- 'etonogestrel(1309)','ethinyl estradiol / norethindrone(909)','levonorgestrel(850)' we have many entries. By aggreating the rec_score using 'mean' the score for these highly used drugs gets lowered due to which the lowest rated/used drugs are recommended after aggregation.\n",
    "- Hence aggregating using 'sum' is used in which scores of same drugs are added together."
   ]
  },
  {
   "cell_type": "code",
   "execution_count": null,
   "id": "4287ba1e",
   "metadata": {
    "id": "4287ba1e"
   },
   "outputs": [],
   "source": [
    "def recommend(condition):\n",
    "    '''this function takes the given condition as input and returns the top drugs based on highest rec scores'''\n",
    "    data = pd.read_csv('validation_data.csv')\n",
    "    select = data[data['condition']==condition]\n",
    "    drug_count = select['drugName'].nunique()\n",
    "    select['rec_score'] = select['rec_score']/drug_count\n",
    "    group_drug = select.groupby(['drugName']).agg({'rec_score':['sum']})\n",
    "    group_drug = group_drug[('rec_score', 'sum')].sort_values(ascending=False)\n",
    "    drug_score = dict(group_drug)\n",
    "    if len(drug_score)>5:\n",
    "        print('Top 5 Drugs for the condition : {0}'.format(condition.upper()))\n",
    "        for i in list(drug_score.keys())[0:5]:\n",
    "            print('->',i)\n",
    "\n",
    "    else:\n",
    "        print('Top  Drugs for the condition : {0}'.format(condition.upper()))\n",
    "        for i in drug_score.keys():\n",
    "            print('->',i)\n"
   ]
  },
  {
   "cell_type": "code",
   "execution_count": null,
   "id": "d6def0f7",
   "metadata": {
    "id": "d6def0f7"
   },
   "outputs": [],
   "source": [
    "recommend('birth control')"
   ]
  },
  {
   "cell_type": "code",
   "execution_count": null,
   "id": "483b8186",
   "metadata": {
    "id": "483b8186"
   },
   "outputs": [],
   "source": [
    "recommend('zen shoulde')"
   ]
  },
  {
   "cell_type": "code",
   "execution_count": null,
   "id": "13479214",
   "metadata": {
    "id": "13479214"
   },
   "outputs": [],
   "source": []
  }
 ],
 "metadata": {
  "colab": {
   "provenance": []
  },
  "kernelspec": {
   "display_name": "Python 3 (ipykernel)",
   "language": "python",
   "name": "python3"
  },
  "language_info": {
   "codemirror_mode": {
    "name": "ipython",
    "version": 3
   },
   "file_extension": ".py",
   "mimetype": "text/x-python",
   "name": "python",
   "nbconvert_exporter": "python",
   "pygments_lexer": "ipython3",
   "version": "3.9.13"
  }
 },
 "nbformat": 4,
 "nbformat_minor": 5
}
